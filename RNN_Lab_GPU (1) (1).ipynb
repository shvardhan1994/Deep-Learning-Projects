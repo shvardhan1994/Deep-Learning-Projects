{
  "nbformat": 4,
  "nbformat_minor": 0,
  "metadata": {
    "kernelspec": {
      "display_name": "Python 3",
      "language": "python",
      "name": "python3"
    },
    "language_info": {
      "codemirror_mode": {
        "name": "ipython",
        "version": 3
      },
      "file_extension": ".py",
      "mimetype": "text/x-python",
      "name": "python",
      "nbconvert_exporter": "python",
      "pygments_lexer": "ipython3",
      "version": "3.7.7"
    },
    "colab": {
      "name": "RNN_Lab_GPU.ipynb",
      "provenance": [],
      "collapsed_sections": [],
      "toc_visible": true
    },
    "accelerator": "GPU"
  },
  "cells": [
    {
      "cell_type": "markdown",
      "metadata": {
        "id": "pUj--MIYJRZ9",
        "colab_type": "text"
      },
      "source": [
        "# Part-of-Speech Tagging with Recurrent Neural Networks"
      ]
    },
    {
      "cell_type": "markdown",
      "metadata": {
        "id": "_hr8W6QwJRZ-",
        "colab_type": "text"
      },
      "source": [
        "Your task in this assignment is to implement a simple part-of-speech tagger based on recurrent neural networks."
      ]
    },
    {
      "cell_type": "markdown",
      "metadata": {
        "id": "k2LdDBR3JRZ_",
        "colab_type": "text"
      },
      "source": [
        "## Get a graphics card"
      ]
    },
    {
      "cell_type": "code",
      "metadata": {
        "id": "bCp5n60DJRZ_",
        "colab_type": "code",
        "outputId": "ee701f5e-823e-4486-c578-7be49393d162",
        "colab": {
          "base_uri": "https://localhost:8080/",
          "height": 34
        }
      },
      "source": [
        "import os\n",
        "import warnings\n",
        "\n",
        "# Ignore FutureWarning from numpy\n",
        "warnings.simplefilter(action='ignore', category=FutureWarning)\n",
        "\n",
        "import keras.backend as K\n",
        "import tensorflow as tf\n",
        "\n",
        "os.environ[\"CUDA_DEVICE_ORDER\"]=\"PCI_BUS_ID\";\n",
        " \n",
        "# The GPU id to use, usually either \"0\" or \"1\";\n",
        "os.environ[\"CUDA_VISIBLE_DEVICES\"]=\"0\";\n",
        "\n",
        "# Allow growth of GPU memory, otherwise it will always look like all the memory is being used\n",
        "#physical_devices = tf.config.experimental.list_physical_devices('GPU')\n",
        "#tf.config.experimental.set_memory_growth(physical_devices[], True) "
      ],
      "execution_count": 1,
      "outputs": [
        {
          "output_type": "stream",
          "text": [
            "Using TensorFlow backend.\n"
          ],
          "name": "stderr"
        }
      ]
    },
    {
      "cell_type": "markdown",
      "metadata": {
        "id": "AHLLnFUsJRaC",
        "colab_type": "text"
      },
      "source": [
        "## Problem specification"
      ]
    },
    {
      "cell_type": "markdown",
      "metadata": {
        "id": "HZA5l1F1JRaD",
        "colab_type": "text"
      },
      "source": [
        "Your task in this assignment is\n",
        "\n",
        "1. to build a part-of-speech tagger based on a recurrent neural network architecture\n",
        "2. to train this tagger on the provided training data and identify a good model\n",
        "2. to evaluate the performance of this model on the provided test data\n",
        "\n",
        "To identify a good model, you can use the provided development (validation) data."
      ]
    },
    {
      "cell_type": "markdown",
      "metadata": {
        "id": "FAHiMCMuJRaD",
        "colab_type": "text"
      },
      "source": [
        "## Part-of-speech tagging"
      ]
    },
    {
      "cell_type": "markdown",
      "metadata": {
        "id": "NipDrsU6JRaE",
        "colab_type": "text"
      },
      "source": [
        "Part-of-speech (POS) tagging is the task of labelling words (tokens) with [parts of speech](https://en.wikipedia.org/wiki/Part_of_speech). To give an example, consider the  sentence *Parker hates parsnips*. In this sentence, the word *Parker* should be labelled as a proper noun (a noun that is the name of a person), *hates* should be labelled as a verb, and *parsnips* should be labelled as a (common) noun. Part-of-speech tagging is an essential ingredient of many state-of-the-art natural language understanding systems.\n",
        "\n",
        "Part-of-speech tagging can be cast as a supervised machine learning problem where the gold-standard data consists of sentences whose words have been manually annotated with parts of speech. For the present assignment you will be using a corpus built over the source material of the [English Web Treebank](https://catalog.ldc.upenn.edu/ldc2012t13), consisting of approximately 16,000&nbsp;sentences with 254,000&nbsp;tokens. The corpus has been released by the [Universal Dependencies Project](http://universaldependencies.org).\n",
        "\n",
        "To make it easier to compare systems, the gold-standard data has been split into three parts: training, development (validation), and test. The following cell provides a function that can be used to load the data."
      ]
    },
    {
      "cell_type": "code",
      "metadata": {
        "id": "zP9Ab9j8JRaE",
        "colab_type": "code",
        "colab": {}
      },
      "source": [
        "def read_data(path):\n",
        "    with open(path, encoding='utf-8') as fp:\n",
        "        result = []\n",
        "        for line in fp:\n",
        "            line = line.rstrip()\n",
        "            if len(line) == 0:\n",
        "                yield result\n",
        "                result = []\n",
        "            elif not line.startswith('#'):\n",
        "                columns = line.split()\n",
        "                if columns[0].isdigit():\n",
        "                    result.append((columns[1], columns[3]))"
      ],
      "execution_count": 0,
      "outputs": []
    },
    {
      "cell_type": "markdown",
      "metadata": {
        "id": "kxMp2IoJJRaH",
        "colab_type": "text"
      },
      "source": [
        "The next cell loads the data:"
      ]
    },
    {
      "cell_type": "code",
      "metadata": {
        "id": "WuZRv2DPJRaH",
        "colab_type": "code",
        "outputId": "13ddd029-df12-4d2a-df29-c722eab9a01c",
        "colab": {
          "base_uri": "https://localhost:8080/",
          "height": 67
        }
      },
      "source": [
        "train_data = list(read_data('en_ewt-ud-train.conllu'))\n",
        "print('Number of sentences in the training data: {}'.format(len(train_data)))\n",
        "\n",
        "dev_data = list(read_data('en_ewt-ud-dev.conllu'))\n",
        "print('Number of sentences in the development data: {}'.format(len(dev_data)))\n",
        "\n",
        "test_data = list(read_data('en_ewt-ud-test.conllu'))\n",
        "print('Number of sentences in the test data: {}'.format(len(test_data)))"
      ],
      "execution_count": 23,
      "outputs": [
        {
          "output_type": "stream",
          "text": [
            "Number of sentences in the training data: 12543\n",
            "Number of sentences in the development data: 2002\n",
            "Number of sentences in the test data: 2077\n"
          ],
          "name": "stdout"
        }
      ]
    },
    {
      "cell_type": "markdown",
      "metadata": {
        "id": "Y3s97IOpJRaJ",
        "colab_type": "text"
      },
      "source": [
        "From a Python perspective, each of the data sets is a list of what we shall refer to as *tagged sentences*. A tagged sentence, in turn, is a list of pairs $(w,t)$, where $w$ is a word token and $t$ is the word&rsquo;s POS tag. Here is an example from the training data to show you how this looks like:"
      ]
    },
    {
      "cell_type": "markdown",
      "metadata": {
        "id": "g1NrUD31JRaM",
        "colab_type": "text"
      },
      "source": [
        "You will see part-of-speech tags such as `VERB` for verb, `NOUN` for noun, and `ADV` for adverb. If you are interested in learning more about the tag set used in the gold-standard data, you can have a look at the documentation of the [Universal POS tags](http://universaldependencies.org/u/pos/all.html). However, you do not need to understand the meaning of the POS tags to solve this assignment; you can simply treat them as labels drawn from a finite set of alternatives."
      ]
    },
    {
      "cell_type": "markdown",
      "metadata": {
        "id": "sEFGCUelJRaM",
        "colab_type": "text"
      },
      "source": [
        "## Network architecture"
      ]
    },
    {
      "cell_type": "markdown",
      "metadata": {
        "id": "67KXrH1xJRaN",
        "colab_type": "text"
      },
      "source": [
        "The proposed network architecture for your tagger is a sequential model with three layers, illustrated below: an embedding, a bidirectional LSTM, and a softmax layer. The embedding turns word indexes (integers representing words) into fixed-size dense vectors which are then fed into the bidirectional LSTM. The output of the LSTM at each position of the sentence is passed to a softmax layer which predicts the POS tag for the word at that position.\n",
        "\n",
        "![architecture.png](attachment:architecture.png)\n",
        "\n",
        "To implement the network architecture, you will use [Keras](https://keras.io/). Keras comes with an extensive online documentation, and reading the relevant parts of this documentation will be essential when working on this assignment. We suggest to start with the tutorial [Getting started with the Keras Sequential model](https://keras.io/getting-started/sequential-model-guide/). After that, you should have a look at some of the examples mentioned in that tutorial, and in particular the [Bidirectional LSTM](https://keras.io/examples/imdb_bidirectional_lstm/) example."
      ]
    },
    {
      "cell_type": "markdown",
      "metadata": {
        "id": "gI1vkxccJRaN",
        "colab_type": "text"
      },
      "source": [
        "## Evaluation"
      ]
    },
    {
      "cell_type": "markdown",
      "metadata": {
        "id": "5h6RXZrkJRaO",
        "colab_type": "text"
      },
      "source": [
        "The most widely-used evaluation measure for part-of-speech tagging is per-word accuracy, which is the percentage of words to which the tagger assigns the correct tag (according to the gold standard). This is one of the default metrics in Keras.\n",
        "\n",
        "One problem that you will encounter during evaluation is that the evaluation data contains words that you did not see (and did not add to your index) during training. The simplest solution to this problem is to introduce a special &lsquo;word&rsquo; `<unk>` and replace each unknown word with this pseudoword."
      ]
    },
    {
      "cell_type": "markdown",
      "metadata": {
        "id": "-PNNeLqiJRaO",
        "colab_type": "text"
      },
      "source": [
        "## Part 1: Pre-process the data"
      ]
    },
    {
      "cell_type": "markdown",
      "metadata": {
        "id": "CDjWzLVqJRaP",
        "colab_type": "text"
      },
      "source": [
        "Before you can start to implement the network architecture as such, you will have to bring the tagged sentences from the gold-standard data into a form that can be used with the network. One important step in this is to map the words and tags (strings) to integers. Here is code that illustrates the idea:"
      ]
    },
    {
      "cell_type": "code",
      "metadata": {
        "id": "w3Sfdyn7JRaP",
        "colab_type": "code",
        "outputId": "c833a7ed-375e-461f-b6fc-072c57711237",
        "colab": {
          "base_uri": "https://localhost:8080/",
          "height": 50
        }
      },
      "source": [
        "word_to_index = {}\n",
        "for tagged_sentence in train_data:\n",
        "    for word, tag in tagged_sentence:\n",
        "        if word not in word_to_index:\n",
        "            word_to_index[word] = len(word_to_index)\n",
        "\n",
        "print('Number of unique words in the training data: {}'.format(len(word_to_index)))\n",
        "print('Index of the word \"hates\": {}'.format(word_to_index['hates']))"
      ],
      "execution_count": 24,
      "outputs": [
        {
          "output_type": "stream",
          "text": [
            "Number of unique words in the training data: 19672\n",
            "Index of the word \"hates\": 4579\n"
          ],
          "name": "stdout"
        }
      ]
    },
    {
      "cell_type": "markdown",
      "metadata": {
        "id": "FUqREJrDJRaS",
        "colab_type": "text"
      },
      "source": [
        "Once you have indexes for the words and the tags, you can construct the input and the gold-standard output tensor required to train the network.\n",
        "\n",
        "### Constructing the input tensor\n",
        "\n",
        "The input tensor should be of shape $(N, n)$ where $N$ is the total number of sentences in the training data and $n$ is the length of the longest sentence. Note that Keras requires all sequences in an input tensor to have the same length, which means that you will have to pad all sequences to that length. You can use the helper function [`pad_sequences`](https://www.tensorflow.org/api_docs/python/tf/keras/preprocessing/sequence/pad_sequences) for this, which by default will front-pad sequences with the value&nbsp;0. It is essential then that you do not use this special padding value as the index of actual words.\n",
        "\n",
        "### Constructing the target output tensor\n",
        "\n",
        "The target output tensor should be of shape $(N, n, T)$ where $T$ is the number of unique tags in the training data, plus one to cater for the special padding value. The additional dimension corresponds to the fact that the softmax layer of the network will output one $T$-dimensional vector for each position of an input sentence. To construct this vector, you can use the helper function [`to_categorical`](https://www.tensorflow.org/api_docs/python/tf/keras/utils/to_categorical)."
      ]
    },
    {
      "cell_type": "code",
      "metadata": {
        "id": "poG1AOZjJRaS",
        "colab_type": "code",
        "outputId": "077e2881-2500-49d2-cad0-5746b26fce09",
        "colab": {
          "base_uri": "https://localhost:8080/",
          "height": 50
        }
      },
      "source": [
        "# Define a help function to build index from a list of words or tags, each word / tag will have a unique number\n",
        "def build_index(strings, init=[]):\n",
        "    string_to_index = {s: i for i, s in enumerate(init)}\n",
        "    for word_tag in strings:\n",
        "      if word_tag not in string_to_index.keys():\n",
        "        string_to_index[word_tag] = len(string_to_index)\n",
        "    return string_to_index\n",
        "        \n",
        "words, tags = [], []\n",
        "for tagged_sentence in train_data:\n",
        "    for word, tag in tagged_sentence:\n",
        "       words.append(word)\n",
        "       tags.append(tag)\n",
        "\n",
        "# Call the help function you made, to build an index for words (word_to_index), and one index for tags (tag_to_index)\n",
        "word_to_index = build_index(strings = words , init=[\"<pad>\" ,\"<unk>\"])\n",
        "tag_to_index = build_index(strings = tags , init=[\"<pad>\"] )\n",
        "\n",
        "# Check number of words and tags\n",
        "num_words = len(word_to_index)\n",
        "num_tags = len(tag_to_index)\n",
        "\n",
        "print(f'Number of unique words in the training data: {num_words}')\n",
        "print(f'Number of unique tags in the training_data: {num_tags}')"
      ],
      "execution_count": 25,
      "outputs": [
        {
          "output_type": "stream",
          "text": [
            "Number of unique words in the training data: 19674\n",
            "Number of unique tags in the training_data: 18\n"
          ],
          "name": "stdout"
        }
      ]
    },
    {
      "cell_type": "code",
      "metadata": {
        "id": "K1mQb8WVJRaU",
        "colab_type": "code",
        "outputId": "c0054281-5143-43bf-eb3f-8ea7685adfdb",
        "colab": {
          "base_uri": "https://localhost:8080/",
          "height": 118
        }
      },
      "source": [
        "from tensorflow.keras.preprocessing.sequence import pad_sequences\n",
        "from tensorflow.keras.utils import to_categorical\n",
        "\n",
        "# Make a function that converts the tagged sentences, word indices and tag indices to \n",
        "# X and Y, that can be used when training the RNN\n",
        "def encode(tagged_sentences, word_to_index, tag_to_index):\n",
        "\n",
        "    # Start with empty lists that will contain all training examples and corresponding output\n",
        "    X, Y = [], []\n",
        "    \n",
        "    for tagSent in tagged_sentences:        \n",
        "        Xcurrent, Ycurrent = [], []        \n",
        "\n",
        "        for word , tag in tagSent:\n",
        "            #Word\n",
        "            if word_to_index.get(word) is None:\n",
        "                 Xcurrent.append(word_to_index.get(\"<unk>\"))\n",
        "            else:\n",
        "                Xcurrent.append(word_to_index.get(word))\n",
        "\n",
        "            #Tags \n",
        "            if tag_to_index.get(tag) is None:\n",
        "                Ycurrent.append(tag_to_index.get(\"<unk>\"))\n",
        "            else:\n",
        "                Ycurrent.append(tag_to_index.get(tag))\n",
        "        #End of Inner for loop\n",
        "        X.append(Xcurrent)\n",
        "        Y.append(Ycurrent)\n",
        "    #End of outer for loop    \n",
        "    X = pad_sequences(X)\n",
        "    Y = pad_sequences(Y)\n",
        "    Y = to_categorical(Y , num_classes=len(tag_to_index.keys()) , dtype= 'float32')\n",
        "    return X, Y\n",
        "\n",
        "X,Y = encode(train_data, word_to_index, tag_to_index)\n",
        "\n",
        "# Print the shape of X and Y\n",
        "print(\"\\n\")\n",
        "print(f\"Shape of X is : {X.shape}\")\n",
        "print(\"\\n\")\n",
        "print(f\"Shape of Y is : {Y.shape}\") "
      ],
      "execution_count": 26,
      "outputs": [
        {
          "output_type": "stream",
          "text": [
            "\n",
            "\n",
            "Shape of X is : (12543, 159)\n",
            "\n",
            "\n",
            "Shape of Y is : (12543, 159, 18)\n"
          ],
          "name": "stdout"
        }
      ]
    },
    {
      "cell_type": "markdown",
      "metadata": {
        "id": "eEif7pGAJRaW",
        "colab_type": "text"
      },
      "source": [
        "## Part 2: Construct the model"
      ]
    },
    {
      "cell_type": "markdown",
      "metadata": {
        "id": "Ttt9oDz2JRaX",
        "colab_type": "text"
      },
      "source": [
        "To implement the network architecture, you need to find and instantiate the relevant building blocks from the Keras library. Note that Keras layers support a large number of optional parameters; use the default values unless you have a good reason not to. Two mandatory parameters that you will have to specify are the dimensionality of the embedding and the dimensionality of the output of the LSTM layer. The following values are reasonable starting points, but do try a number of different settings.\n",
        "\n",
        "* dimensionality of the embedding: 100\n",
        "* dimensionality of the output of the bidirectional LSTM layer: 100\n",
        "\n",
        "You will also have to choose an appropriate loss function. For training we recommend the Adam optimiser."
      ]
    },
    {
      "cell_type": "code",
      "metadata": {
        "id": "jPQoIyxF-c_E",
        "colab_type": "code",
        "colab": {
          "base_uri": "https://localhost:8080/",
          "height": 302
        },
        "outputId": "3472076d-eaf1-438e-c5a4-dd50b21e1ae1"
      },
      "source": [
        "from keras import Sequential\n",
        "# Import necessary layers\n",
        "from keras.layers import Dense, Dropout, Embedding, LSTM, Bidirectional\n",
        "from keras.optimizers import Adam\n",
        "from keras.losses import categorical_crossentropy \n",
        "#from keras.losses import binary_crossentropy \n",
        "\n",
        "embedding_dim = 100\n",
        "hidden_dim = 100\n",
        "input_size = len(word_to_index.keys())\n",
        "\n",
        "\n",
        "#Model Creation\n",
        "model = Sequential()\n",
        "\n",
        "# The model should have an embedding layer, a bidirectional LSTM, and a dense softmax layer \n",
        "\n",
        "model.add(Embedding(input_size , embedding_dim, mask_zero = True))\n",
        "model.add(Bidirectional(LSTM(hidden_dim , return_sequences=True)))\n",
        "model.add(Dropout(0.5))\n",
        "model.add(Dense(18 , activation = 'softmax'))\n",
        "# (see the network architecture image)\n",
        "\n",
        "# Compile model\n",
        "model.compile(loss = categorical_crossentropy , optimizer = \"Adam\", metrics=['accuracy'] )\n",
        "\n",
        "# Print a summary of the model\n",
        "print(model.summary())\n"
      ],
      "execution_count": 45,
      "outputs": [
        {
          "output_type": "stream",
          "text": [
            "Model: \"sequential_4\"\n",
            "_________________________________________________________________\n",
            "Layer (type)                 Output Shape              Param #   \n",
            "=================================================================\n",
            "embedding_4 (Embedding)      (None, None, 100)         1967400   \n",
            "_________________________________________________________________\n",
            "bidirectional_4 (Bidirection (None, None, 200)         160800    \n",
            "_________________________________________________________________\n",
            "dropout_4 (Dropout)          (None, None, 200)         0         \n",
            "_________________________________________________________________\n",
            "dense_4 (Dense)              (None, None, 18)          3618      \n",
            "=================================================================\n",
            "Total params: 2,131,818\n",
            "Trainable params: 2,131,818\n",
            "Non-trainable params: 0\n",
            "_________________________________________________________________\n",
            "None\n"
          ],
          "name": "stdout"
        }
      ]
    },
    {
      "cell_type": "markdown",
      "metadata": {
        "id": "-5bH2jfeJRaZ",
        "colab_type": "text"
      },
      "source": [
        "## Part 3: Train the network"
      ]
    },
    {
      "cell_type": "markdown",
      "metadata": {
        "id": "R1qq4o3MJRaa",
        "colab_type": "text"
      },
      "source": [
        "The next step is to train the network. Use the following parameters:\n",
        "\n",
        "* number of epochs: 10\n",
        "* batch size: 32\n",
        "\n",
        "Training will print the average running loss on the training data after each minibatch. In addition to that, we ask you to also print the loss and accuracy on the development data after each epoch. You can do so by providing the `validation_data` argument to the `fit` method.\n",
        "\n",
        "Note that the `fit` method returns a [`History`](https://keras.io/callbacks/#history) object that contains useful information about the training. We will use that information in the next step."
      ]
    },
    {
      "cell_type": "code",
      "metadata": {
        "id": "g6L68B3YJRaa",
        "colab_type": "code",
        "outputId": "bbb1bd9d-48a4-4a2d-9494-85cbf9801fa1",
        "colab": {
          "base_uri": "https://localhost:8080/",
          "height": 202
        }
      },
      "source": [
        "\n",
        "# Encode the development (validation data) using the 'encode' function you created before\n",
        "Xval,Yval = encode(dev_data, word_to_index, tag_to_index)\n",
        "# Train the model and save the history, as you did in the DNN and CNN labs, provide validation data\n",
        "history = model.fit(X,Y, batch_size = 32, epochs = 5,validation_data=(Xval,Yval))\n"
      ],
      "execution_count": 50,
      "outputs": [
        {
          "output_type": "stream",
          "text": [
            "Train on 12543 samples, validate on 2002 samples\n",
            "Epoch 1/5\n",
            "12543/12543 [==============================] - 270s 22ms/step - loss: 0.0060 - accuracy: 0.9825 - val_loss: 0.0577 - val_accuracy: 0.9076\n",
            "Epoch 2/5\n",
            "12543/12543 [==============================] - 270s 22ms/step - loss: 0.0050 - accuracy: 0.9855 - val_loss: 0.0625 - val_accuracy: 0.9065\n",
            "Epoch 3/5\n",
            "12543/12543 [==============================] - 268s 21ms/step - loss: 0.0041 - accuracy: 0.9880 - val_loss: 0.0651 - val_accuracy: 0.9066\n",
            "Epoch 4/5\n",
            "12543/12543 [==============================] - 271s 22ms/step - loss: 0.0034 - accuracy: 0.9900 - val_loss: 0.0670 - val_accuracy: 0.9068\n",
            "Epoch 5/5\n",
            "12543/12543 [==============================] - 271s 22ms/step - loss: 0.0029 - accuracy: 0.9917 - val_loss: 0.0694 - val_accuracy: 0.9057\n"
          ],
          "name": "stdout"
        }
      ]
    },
    {
      "cell_type": "markdown",
      "metadata": {
        "id": "D6uXQAHbJRac",
        "colab_type": "text"
      },
      "source": [
        "## Part 4: Identify a good model"
      ]
    },
    {
      "cell_type": "markdown",
      "metadata": {
        "id": "X2DOdyEiJRac",
        "colab_type": "text"
      },
      "source": [
        "The following code will plot the loss on the training data and the loss on the validation data after each epoch:"
      ]
    },
    {
      "cell_type": "code",
      "metadata": {
        "id": "z1Q1gP_jJRad",
        "colab_type": "code",
        "colab": {}
      },
      "source": [
        "# Lets define a help function for plotting the training results\n",
        "import matplotlib.pyplot as plt\n",
        "\n",
        "def plot_results(history):\n",
        "    \n",
        "    val_loss = history.history['val_loss']\n",
        "    acc = history.history['accuracy']\n",
        "    loss = history.history['loss']\n",
        "    val_acc = history.history['val_accuracy']\n",
        "    \n",
        "    plt.figure(figsize=(10,4))\n",
        "    plt.xlabel('Epochs')\n",
        "    plt.ylabel('Loss')\n",
        "    plt.plot(loss)\n",
        "    plt.plot(val_loss)\n",
        "    plt.legend(['Training','Validation'])\n",
        "\n",
        "    plt.figure(figsize=(10,4))\n",
        "    plt.xlabel('Epochs')\n",
        "    plt.ylabel('Accuracy')\n",
        "    plt.plot(acc)\n",
        "    plt.plot(val_acc)\n",
        "    plt.legend(['Training','Validation'])\n",
        "\n",
        "    plt.show()"
      ],
      "execution_count": 0,
      "outputs": []
    },
    {
      "cell_type": "code",
      "metadata": {
        "id": "XmAKly82JRaf",
        "colab_type": "code",
        "outputId": "86dd9e80-5c64-4b8c-a448-0f3c8be8cf63",
        "colab": {
          "base_uri": "https://localhost:8080/",
          "height": 541
        }
      },
      "source": [
        "plot_results(history)"
      ],
      "execution_count": 52,
      "outputs": [
        {
          "output_type": "display_data",
          "data": {
            "image/png": "[encoded data removed]",
            "text/plain": [
              "<Figure size 720x288 with 1 Axes>"
            ]
          },
          "metadata": {
            "tags": [],
            "needs_background": "light"
          }
        },
        {
          "output_type": "display_data",
          "data": {
            "image/png": "[encoded data removed]",
            "text/plain": [
              "<Figure size 720x288 with 1 Axes>"
            ]
          },
          "metadata": {
            "tags": [],
            "needs_background": "light"
          }
        }
      ]
    },
    {
      "cell_type": "markdown",
      "metadata": {
        "id": "EymTj3sMJRag",
        "colab_type": "text"
      },
      "source": [
        "Look at the plot and determine the epoch after which the model starts to overfit. Then, re-train your model using that many epochs and compute the accuracy of the tagger on the test data."
      ]
    },
    {
      "cell_type": "code",
      "metadata": {
        "id": "DIMT_BVPJRah",
        "colab_type": "code",
        "outputId": "32ac0860-ac5a-47bb-a0b9-b7a51f3e22a9",
        "colab": {
          "base_uri": "https://localhost:8080/",
          "height": 67
        }
      },
      "source": [
        "# Encode the test_data using the 'encode' function you created before\n",
        "Xtest,Ytest = encode(test_data, word_to_index, tag_to_index)\n",
        "\n",
        "\n",
        "# Evaluate the model on test data, as you did in the DNN and CNN lab\n",
        "score = model.evaluate(Xtest, Ytest)\n",
        "print('Test loss: %.4f' % score[0])\n",
        "print('Test accuracy: %.4f' % score[1])"
      ],
      "execution_count": 53,
      "outputs": [
        {
          "output_type": "stream",
          "text": [
            "2077/2077 [==============================] - 3s 2ms/step\n",
            "Test loss: 0.0600\n",
            "Test accuracy: 0.9064\n"
          ],
          "name": "stdout"
        }
      ]
    },
    {
      "cell_type": "markdown",
      "metadata": {
        "id": "RQdgeZGxJRaj",
        "colab_type": "text"
      },
      "source": [
        "## Submission"
      ]
    },
    {
      "cell_type": "markdown",
      "metadata": {
        "id": "QBAdR8gaJRaj",
        "colab_type": "text"
      },
      "source": [
        "Your notebook should include all your code, and should be runnable without further modification. It should also include answers to the following questions:\n",
        "\n",
        "How many epochs did you train the final model for?\n",
        "\n",
        "What accuracy did you achieve on the test data?\n",
        "\n",
        "What dimensionality of the embedding did you use for your best results?\n",
        "\n",
        "What dimensionality of the output of the bidirectional LSTM layer did you use for your best results?\n",
        "\n",
        "Instead of manually identifying a good model, and redoing the training to that number of epochs, how can you automatically stop the training when the validation performance does not improve anymore? Hint: see Lecture 2\n",
        "\n",
        "What did you find particularly surprising or hard?\n",
        "\n",
        "How do you calculate the number of parameters in the embedding layer? Hint: the calculation includes the vocabulary size and the embedding dimension\n",
        "\n",
        "How do you calculate the number of parameters in the bidirectional LSTM layer? Hint: A LSTM layer has 4 parts; cell, input gate, output gate, forget gate, each part contains two weight matrices and a bias vector. A bidirectional LSTM contains two LSTMs.\n",
        "\n",
        "https://en.wikipedia.org/wiki/Long_short-term_memory"
      ]
    },
    {
      "cell_type": "markdown",
      "metadata": {
        "id": "w2z8SYIvF1Yd",
        "colab_type": "text"
      },
      "source": [
        ""
      ]
    },
    {
      "cell_type": "markdown",
      "metadata": {
        "id": "1rXE_X7jJRak",
        "colab_type": "text"
      },
      "source": [
        "1. 5 epochs has been used to train the model. As the number of epochs increased the model tends to overfit the training data more. Hence the model is trained for 5epochs instead of 10 epochs as suggested in the question.\n",
        "\n",
        "```\n",
        "# This is formatted as code\n",
        "```\n",
        "\n",
        " Epochs\n",
        "2. 90.64% Accuracy for Test Data\n",
        "3. 100\n",
        "4. 100\n",
        "5. from keras.callbacks import Earlystopping\n",
        "es = EarlyStopping(monitor = 'val_loss',mode = \"min\")\n",
        "\n",
        "6. The understanding of input dimensions for Embedding and LSTM and tagging <pad> and <unk> for words and tags.\n",
        "\n",
        "7. Number of Vocabulary * dimensionality of the embedding\n",
        "\n",
        "8. 4 * ((size_of_input + 1) * size_of_output + size_of_output^2)\n",
        "(19647 * 100 + 10000) * 4 = 7898800"
      ]
    },
    {
      "cell_type": "markdown",
      "metadata": {
        "id": "Bjb_I16XJRak",
        "colab_type": "text"
      },
      "source": [
        "## Ethics in deep learning\n",
        "\n",
        "Now that you have watched the 5 lectures, and completed the 3 laborations in this course, what do you think is the most important ethical question related to deep learning? Motivate your answer.\n",
        "\n"
      ]
    },
    {
      "cell_type": "markdown",
      "metadata": {
        "id": "QmUenmIOJRal",
        "colab_type": "text"
      },
      "source": [
        "The understanding of underlying structure of different deep learning models is quite a challenge and also tweaking different parameters and hyperparameters based on model and data is also interesting as well as challenging."
      ]
    }
  ]
}